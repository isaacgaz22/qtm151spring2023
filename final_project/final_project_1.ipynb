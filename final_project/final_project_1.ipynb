{
 "cells": [
  {
   "cell_type": "code",
   "execution_count": null,
   "metadata": {},
   "outputs": [],
   "source": [
    "#Final project time!!"
   ]
  },
  {
   "cell_type": "code",
   "execution_count": 31,
   "metadata": {},
   "outputs": [
    {
     "name": "stdout",
     "output_type": "stream",
     "text": [
      "Hello world! and welcome to our final project\n"
     ]
    }
   ],
   "source": [
    "print(\"Hello world! and welcome to our final project\")"
   ]
  },
  {
   "attachments": {},
   "cell_type": "markdown",
   "metadata": {},
   "source": [
    "Introduction: (TBA)"
   ]
  },
  {
   "cell_type": "code",
   "execution_count": 32,
   "metadata": {},
   "outputs": [
    {
     "name": "stdout",
     "output_type": "stream",
     "text": [
      "Team members: Isaac Gazmararian, Max Roquitte, Madison Bormon, Michael Shi\n"
     ]
    }
   ],
   "source": [
    "print(\"Team members: Isaac Gazmararian, Max Roquitte, Madison Bormon, Michael Shi\")"
   ]
  },
  {
   "cell_type": "code",
   "execution_count": 37,
   "metadata": {},
   "outputs": [],
   "source": [
    "#import libraries\n",
    "\n",
    "import matplotlib.pyplot as plt\n",
    "import numpy as np\n",
    "import pandas as pd\n",
    "from   matplotlib import style\n",
    "from   matplotlib import ticker\n",
    "import matplotlib.dates as mdates"
   ]
  },
  {
   "cell_type": "code",
   "execution_count": 9,
   "metadata": {},
   "outputs": [],
   "source": [
    "#import our data\n",
    "circuits = pd.read_csv(\"data_raw/circuits.csv\")\n",
    "races = pd.read_csv(\"data_raw/races.csv\")\n",
    "results = pd.read_csv(\"data_raw/results.csv\")\n",
    "drivers = pd.read_csv(\"data_raw/drivers.csv\")"
   ]
  },
  {
   "cell_type": "code",
   "execution_count": 13,
   "metadata": {},
   "outputs": [],
   "source": [
    "#first let's grab only the necessary data from circuits\n",
    "\n",
    "circuits_subsetcols = [\"country\",\"circuitId\"]\n",
    "\n",
    "circuits_clean = circuits[circuits_subsetcols]\n",
    "                       "
   ]
  },
  {
   "attachments": {},
   "cell_type": "markdown",
   "metadata": {},
   "source": [
    "And now we begin the merging!"
   ]
  },
  {
   "cell_type": "code",
   "execution_count": 34,
   "metadata": {},
   "outputs": [],
   "source": [
    "#merging\n",
    "\n",
    "races_merge_1 = pd.merge(circuits_clean,\n",
    "                        races[[\"circuitId\",\"raceId\",\"year\"]],\n",
    "                        on = \"circuitId\",\n",
    "                        how = \"left\")\n",
    "\n",
    "races_merge_2 = pd.merge(races_merge_1,\n",
    "                         results[[\"raceId\",\"driverId\",\"positionOrder\"]],\n",
    "                         on = \"raceId\",\n",
    "                         how = \"left\"\n",
    "                         )\n",
    "\n",
    "races_merge_3 = pd.merge(races_merge_2,\n",
    "                         drivers[[\"driverId\",\"nationality\"]],\n",
    "                         on = \"driverId\",\n",
    "                         how = \"left\",\n",
    "                         )\n",
    "\n"
   ]
  },
  {
   "cell_type": "code",
   "execution_count": 43,
   "metadata": {},
   "outputs": [],
   "source": [
    "from math import nan\n",
    "import math"
   ]
  },
  {
   "cell_type": "code",
   "execution_count": 47,
   "metadata": {},
   "outputs": [],
   "source": []
  },
  {
   "cell_type": "code",
   "execution_count": 56,
   "metadata": {},
   "outputs": [],
   "source": [
    "#now let's allow ourselves to boolean nationality with country\n",
    "\n",
    "countries = pd.read_csv(\"data_raw/countries.csv\")\n",
    "\n",
    "#rename column so it can be merged\n",
    "\n",
    "countries.rename(columns = {'Nationality': 'nationality'}, inplace = True)\n",
    "\n",
    "#merge!\n",
    "\n",
    "races_merge_4 = pd.merge(races_merge_3,\n",
    "                         countries[[\"nationality\",\"Name\"]],\n",
    "                         on = \"nationality\",\n",
    "                         how = \"left\"\n",
    "                         )"
   ]
  },
  {
   "cell_type": "code",
   "execution_count": 57,
   "metadata": {},
   "outputs": [],
   "source": [
    "#let's clean this up\n",
    "\n",
    "races_merge_4.dtypes\n",
    "\n",
    "#remove the nans\n",
    "\n",
    "df1= races_merge_4.dropna(subset=['driverId'])"
   ]
  },
  {
   "cell_type": "code",
   "execution_count": 76,
   "metadata": {},
   "outputs": [
    {
     "data": {
      "text/html": [
       "<div>\n",
       "<style scoped>\n",
       "    .dataframe tbody tr th:only-of-type {\n",
       "        vertical-align: middle;\n",
       "    }\n",
       "\n",
       "    .dataframe tbody tr th {\n",
       "        vertical-align: top;\n",
       "    }\n",
       "\n",
       "    .dataframe thead th {\n",
       "        text-align: right;\n",
       "    }\n",
       "</style>\n",
       "<table border=\"1\" class=\"dataframe\">\n",
       "  <thead>\n",
       "    <tr style=\"text-align: right;\">\n",
       "      <th></th>\n",
       "      <th>driverId</th>\n",
       "      <th>mean_position_home</th>\n",
       "      <th>sd_position_home</th>\n",
       "      <th>count_obs_home</th>\n",
       "    </tr>\n",
       "  </thead>\n",
       "  <tbody>\n",
       "    <tr>\n",
       "      <th>0</th>\n",
       "      <td>2.0</td>\n",
       "      <td>11.352941</td>\n",
       "      <td>6.112908</td>\n",
       "      <td>17</td>\n",
       "    </tr>\n",
       "    <tr>\n",
       "      <th>1</th>\n",
       "      <td>3.0</td>\n",
       "      <td>9.090909</td>\n",
       "      <td>6.057302</td>\n",
       "      <td>11</td>\n",
       "    </tr>\n",
       "    <tr>\n",
       "      <th>2</th>\n",
       "      <td>4.0</td>\n",
       "      <td>7.625000</td>\n",
       "      <td>6.499582</td>\n",
       "      <td>24</td>\n",
       "    </tr>\n",
       "    <tr>\n",
       "      <th>3</th>\n",
       "      <td>6.0</td>\n",
       "      <td>15.000000</td>\n",
       "      <td>0.000000</td>\n",
       "      <td>2</td>\n",
       "    </tr>\n",
       "    <tr>\n",
       "      <th>4</th>\n",
       "      <td>7.0</td>\n",
       "      <td>17.000000</td>\n",
       "      <td>NaN</td>\n",
       "      <td>1</td>\n",
       "    </tr>\n",
       "    <tr>\n",
       "      <th>...</th>\n",
       "      <td>...</td>\n",
       "      <td>...</td>\n",
       "      <td>...</td>\n",
       "      <td>...</td>\n",
       "    </tr>\n",
       "    <tr>\n",
       "      <th>354</th>\n",
       "      <td>844.0</td>\n",
       "      <td>15.500000</td>\n",
       "      <td>7.724420</td>\n",
       "      <td>4</td>\n",
       "    </tr>\n",
       "    <tr>\n",
       "      <th>355</th>\n",
       "      <td>845.0</td>\n",
       "      <td>18.000000</td>\n",
       "      <td>NaN</td>\n",
       "      <td>1</td>\n",
       "    </tr>\n",
       "    <tr>\n",
       "      <th>356</th>\n",
       "      <td>849.0</td>\n",
       "      <td>16.000000</td>\n",
       "      <td>NaN</td>\n",
       "      <td>1</td>\n",
       "    </tr>\n",
       "    <tr>\n",
       "      <th>357</th>\n",
       "      <td>852.0</td>\n",
       "      <td>13.000000</td>\n",
       "      <td>NaN</td>\n",
       "      <td>1</td>\n",
       "    </tr>\n",
       "    <tr>\n",
       "      <th>358</th>\n",
       "      <td>853.0</td>\n",
       "      <td>18.000000</td>\n",
       "      <td>NaN</td>\n",
       "      <td>1</td>\n",
       "    </tr>\n",
       "  </tbody>\n",
       "</table>\n",
       "<p>359 rows × 4 columns</p>\n",
       "</div>"
      ],
      "text/plain": [
       "     driverId  mean_position_home  sd_position_home  count_obs_home\n",
       "0         2.0           11.352941          6.112908              17\n",
       "1         3.0            9.090909          6.057302              11\n",
       "2         4.0            7.625000          6.499582              24\n",
       "3         6.0           15.000000          0.000000               2\n",
       "4         7.0           17.000000               NaN               1\n",
       "..        ...                 ...               ...             ...\n",
       "354     844.0           15.500000          7.724420               4\n",
       "355     845.0           18.000000               NaN               1\n",
       "356     849.0           16.000000               NaN               1\n",
       "357     852.0           13.000000               NaN               1\n",
       "358     853.0           18.000000               NaN               1\n",
       "\n",
       "[359 rows x 4 columns]"
      ]
     },
     "metadata": {},
     "output_type": "display_data"
    },
    {
     "data": {
      "text/html": [
       "<div>\n",
       "<style scoped>\n",
       "    .dataframe tbody tr th:only-of-type {\n",
       "        vertical-align: middle;\n",
       "    }\n",
       "\n",
       "    .dataframe tbody tr th {\n",
       "        vertical-align: top;\n",
       "    }\n",
       "\n",
       "    .dataframe thead th {\n",
       "        text-align: right;\n",
       "    }\n",
       "</style>\n",
       "<table border=\"1\" class=\"dataframe\">\n",
       "  <thead>\n",
       "    <tr style=\"text-align: right;\">\n",
       "      <th></th>\n",
       "      <th>driverId</th>\n",
       "      <th>mean_position</th>\n",
       "      <th>sd_position</th>\n",
       "      <th>count_obs</th>\n",
       "    </tr>\n",
       "  </thead>\n",
       "  <tbody>\n",
       "    <tr>\n",
       "      <th>0</th>\n",
       "      <td>1.0</td>\n",
       "      <td>4.787097</td>\n",
       "      <td>5.644239</td>\n",
       "      <td>310</td>\n",
       "    </tr>\n",
       "    <tr>\n",
       "      <th>1</th>\n",
       "      <td>2.0</td>\n",
       "      <td>10.658683</td>\n",
       "      <td>5.341103</td>\n",
       "      <td>167</td>\n",
       "    </tr>\n",
       "    <tr>\n",
       "      <th>2</th>\n",
       "      <td>3.0</td>\n",
       "      <td>8.205128</td>\n",
       "      <td>6.277022</td>\n",
       "      <td>195</td>\n",
       "    </tr>\n",
       "    <tr>\n",
       "      <th>3</th>\n",
       "      <td>4.0</td>\n",
       "      <td>8.556886</td>\n",
       "      <td>6.196100</td>\n",
       "      <td>334</td>\n",
       "    </tr>\n",
       "    <tr>\n",
       "      <th>4</th>\n",
       "      <td>5.0</td>\n",
       "      <td>13.285714</td>\n",
       "      <td>5.625599</td>\n",
       "      <td>112</td>\n",
       "    </tr>\n",
       "    <tr>\n",
       "      <th>...</th>\n",
       "      <td>...</td>\n",
       "      <td>...</td>\n",
       "      <td>...</td>\n",
       "      <td>...</td>\n",
       "    </tr>\n",
       "    <tr>\n",
       "      <th>799</th>\n",
       "      <td>852.0</td>\n",
       "      <td>13.906977</td>\n",
       "      <td>4.319468</td>\n",
       "      <td>43</td>\n",
       "    </tr>\n",
       "    <tr>\n",
       "      <th>800</th>\n",
       "      <td>853.0</td>\n",
       "      <td>17.857143</td>\n",
       "      <td>1.796823</td>\n",
       "      <td>21</td>\n",
       "    </tr>\n",
       "    <tr>\n",
       "      <th>801</th>\n",
       "      <td>854.0</td>\n",
       "      <td>15.659091</td>\n",
       "      <td>3.057155</td>\n",
       "      <td>44</td>\n",
       "    </tr>\n",
       "    <tr>\n",
       "      <th>802</th>\n",
       "      <td>855.0</td>\n",
       "      <td>14.318182</td>\n",
       "      <td>3.415616</td>\n",
       "      <td>66</td>\n",
       "    </tr>\n",
       "    <tr>\n",
       "      <th>803</th>\n",
       "      <td>856.0</td>\n",
       "      <td>9.000000</td>\n",
       "      <td>0.000000</td>\n",
       "      <td>3</td>\n",
       "    </tr>\n",
       "  </tbody>\n",
       "</table>\n",
       "<p>804 rows × 4 columns</p>\n",
       "</div>"
      ],
      "text/plain": [
       "     driverId  mean_position  sd_position  count_obs\n",
       "0         1.0       4.787097     5.644239        310\n",
       "1         2.0      10.658683     5.341103        167\n",
       "2         3.0       8.205128     6.277022        195\n",
       "3         4.0       8.556886     6.196100        334\n",
       "4         5.0      13.285714     5.625599        112\n",
       "..        ...            ...          ...        ...\n",
       "799     852.0      13.906977     4.319468         43\n",
       "800     853.0      17.857143     1.796823         21\n",
       "801     854.0      15.659091     3.057155         44\n",
       "802     855.0      14.318182     3.415616         66\n",
       "803     856.0       9.000000     0.000000          3\n",
       "\n",
       "[804 rows x 4 columns]"
      ]
     },
     "metadata": {},
     "output_type": "display_data"
    }
   ],
   "source": [
    "#now let's find the mean values\n",
    "\n",
    "df_home = (df1.query(\"Name == country\")\n",
    "                       .groupby([\"driverId\"])\n",
    "                        .agg(mean_position_home = ('positionOrder','mean'),\n",
    "                             sd_position_home =   ('positionOrder','std'),\n",
    "                             count_obs_home   = ('positionOrder',len))\n",
    "                         .reset_index()\n",
    "                             )\n",
    "\n",
    "display(df_home)\n",
    "\n",
    "df_nothome = (df1.query(\"Name != country\")\n",
    "                       .groupby([\"driverId\"])\n",
    "                        .agg(mean_position = ('positionOrder','mean'),\n",
    "                             sd_position =   ('positionOrder','std'),\n",
    "                             count_obs   = ('positionOrder',len))\n",
    "                         .reset_index()\n",
    "                             )\n",
    "\n",
    "display(df_nothome)"
   ]
  },
  {
   "cell_type": "code",
   "execution_count": 87,
   "metadata": {},
   "outputs": [
    {
     "data": {
      "text/plain": [
       "-0.5018600926359847"
      ]
     },
     "execution_count": 87,
     "metadata": {},
     "output_type": "execute_result"
    }
   ],
   "source": [
    "df_merged = pd.merge(df_home,\n",
    "                     df_nothome[[\"driverId\",\"mean_position\",\"sd_position\",\"count_obs\"]],\n",
    "                     on = \"driverId\",\n",
    "                     how = \"left\"\n",
    "                     )\n",
    "\n",
    "df_merged[\"difference\"] = df_merged[\"mean_position_home\"] - df_merged[\"mean_position\"]\n",
    "\n",
    "df_merged[\"difference\"].mean()"
   ]
  },
  {
   "cell_type": "code",
   "execution_count": 84,
   "metadata": {},
   "outputs": [
    {
     "data": {
      "text/plain": [
       "Text(0.5, 1.0, 'comparing home and not home')"
      ]
     },
     "execution_count": 84,
     "metadata": {},
     "output_type": "execute_result"
    },
    {
     "data": {
      "image/png": "[encoded data removed]",
      "text/plain": [
       "<Figure size 640x480 with 1 Axes>"
      ]
     },
     "metadata": {},
     "output_type": "display_data"
    }
   ],
   "source": [
    "#now let's plot\n",
    "\n",
    "# Extract information that we want to plot\n",
    "# Indicate that \"date\" is the x-axis\n",
    "plot_data = df_merged[[\"driverId\",\"difference\"]].set_index(\"driverId\")\n",
    "\n",
    "# Generate basic lineplot \n",
    "# We add with the subplot environment and add more info\n",
    "# The linewidth option controls how thin the lines are\n",
    "# With subplots we use \"set_xlabel\" rather than \"xlabel\"\n",
    "fig, ax = plt.subplots(1,1)\n",
    "ax.plot(plot_data,\n",
    "        linewidth=1)\n",
    "ax.legend([\"home\",\"not home\"])\n",
    "ax.set_ylabel(\"average position\")\n",
    "ax.set_xlabel(\"driverId\")\n",
    "ax.set_title(\"comparing home and not home\")"
   ]
  }
 ],
 "metadata": {
  "kernelspec": {
   "display_name": "Python 3",
   "language": "python",
   "name": "python3"
  },
  "language_info": {
   "codemirror_mode": {
    "name": "ipython",
    "version": 3
   },
   "file_extension": ".py",
   "mimetype": "text/x-python",
   "name": "python",
   "nbconvert_exporter": "python",
   "pygments_lexer": "ipython3",
   "version": "3.11.1"
  },
  "orig_nbformat": 4
 },
 "nbformat": 4,
 "nbformat_minor": 2
}
